{
  "cells": [
    {
      "cell_type": "code",
      "execution_count": null,
      "metadata": {
        "id": "ricKPn1aA4f4"
      },
      "outputs": [],
      "source": [
        "!apt-get -qq update\n",
        "!apt-get -qq install postgresql postgresql-client postgresql-contrib\n",
        "!pip install psycopg2"
      ]
    },
    {
      "cell_type": "code",
      "execution_count": null,
      "metadata": {
        "colab": {
          "base_uri": "https://localhost:8080/"
        },
        "id": "gq5pLMLWCnhn",
        "outputId": "2ca87b55-c967-4632-90f6-3ff37e918672"
      },
      "outputs": [
        {
          "name": "stdout",
          "output_type": "stream",
          "text": [
            " * Starting PostgreSQL 14 database server\n",
            "   ...done.\n"
          ]
        }
      ],
      "source": [
        "!service postgresql start"
      ]
    },
    {
      "cell_type": "code",
      "execution_count": null,
      "metadata": {
        "colab": {
          "base_uri": "https://localhost:8080/"
        },
        "id": "DBe2N3r9DCkA",
        "outputId": "4d88fb79-2cf8-47b6-b511-97d7b1752c64"
      },
      "outputs": [
        {
          "name": "stdout",
          "output_type": "stream",
          "text": [
            "CREATE ROLE\n",
            "CREATE DATABASE\n",
            "GRANT\n",
            "GRANT ROLE\n",
            "CREATE SCHEMA\n"
          ]
        }
      ],
      "source": [
        "!sudo -u postgres psql -c \"CREATE USER adminuser WITH PASSWORD 'admin123';\"\n",
        "!sudo -u postgres psql -c \"CREATE DATABASE sportstickets;\"\n",
        "!sudo -u postgres psql -c \"GRANT ALL PRIVILEGES ON DATABASE sportstickets to adminuser;\"\n",
        "!sudo -u postgres psql -c \"GRANT pg_read_server_files TO adminuser;\"\n",
        "!sudo -u postgres psql -c \"CREATE SCHEMA IF NOT exists dms_sample;\""
      ]
    },
    {
      "cell_type": "code",
      "execution_count": null,
      "metadata": {
        "id": "aP3pXw8QDlp6"
      },
      "outputs": [],
      "source": [
        "!sudo sed -i \"s/#listen_addresses = 'localhost'/listen_addresses = '*'/g\" /etc/postgresql/14/main/postgresql.conf\n",
        "!sudo echo \"host sportstickets adminuser 0.0.0.0/0 md5\" >> /etc/postgresql/14/main/pg_hba.conf"
      ]
    },
    {
      "cell_type": "code",
      "execution_count": null,
      "metadata": {
        "id": "zqcKpCzUDrmE"
      },
      "outputs": [],
      "source": [
        "! cat /etc/postgresql/14/main/postgresql.conf"
      ]
    },
    {
      "cell_type": "code",
      "execution_count": null,
      "metadata": {
        "id": "T8crf0LmF1ua"
      },
      "outputs": [],
      "source": [
        "! cat /etc/postgresql/14/main/pg_hba.conf"
      ]
    },
    {
      "cell_type": "code",
      "execution_count": null,
      "metadata": {
        "colab": {
          "base_uri": "https://localhost:8080/"
        },
        "id": "JrORpY7aGHkk",
        "outputId": "3dc93c36-7fb9-4819-f009-f3fa03948acf"
      },
      "outputs": [
        {
          "name": "stdout",
          "output_type": "stream",
          "text": [
            " * Restarting PostgreSQL 14 database server\n",
            "   ...done.\n"
          ]
        }
      ],
      "source": [
        "!service postgresql restart"
      ]
    },
    {
      "cell_type": "code",
      "execution_count": null,
      "metadata": {
        "id": "CC_r3OekGkTu"
      },
      "outputs": [],
      "source": [
        "!wget https://bin.equinox.io/c/bNyj1mQVY4c/ngrok-v3-stable-linux-amd64.tgz\n",
        "!tar -xf ngrok-v3-stable-linux-amd64.tgz"
      ]
    },
    {
      "cell_type": "code",
      "execution_count": null,
      "metadata": {
        "colab": {
          "base_uri": "https://localhost:8080/"
        },
        "id": "AzqKboGLHE33",
        "outputId": "fef3c3c8-4e15-4b44-b185-2f7d21f2738c"
      },
      "outputs": [
        {
          "name": "stdout",
          "output_type": "stream",
          "text": [
            "Authtoken saved to configuration file: /root/.config/ngrok/ngrok.yml\n"
          ]
        }
      ],
      "source": [
        "!./ngrok authtoken YOUR TOKEN NGROK"
      ]
    },
    {
      "cell_type": "code",
      "execution_count": null,
      "metadata": {
        "id": "3wdjzflHHXL3"
      },
      "outputs": [],
      "source": [
        "get_ipython().system_raw('./ngrok tcp 5432 &')"
      ]
    },
    {
      "cell_type": "code",
      "execution_count": null,
      "metadata": {
        "colab": {
          "base_uri": "https://localhost:8080/"
        },
        "id": "A9Ym_dspIBzO",
        "outputId": "b6490472-0dbe-4f20-853f-a116a686fb5a"
      },
      "outputs": [
        {
          "name": "stdout",
          "output_type": "stream",
          "text": [
            "tcp://0.tcp.ngrok.io:14732\n"
          ]
        }
      ],
      "source": [
        "!curl -s http://localhost:4040/api/tunnels | python3 -c \"import sys, json; print(json.load(sys.stdin)['tunnels'][0]['public_url'])\""
      ]
    },
    {
      "cell_type": "code",
      "execution_count": null,
      "metadata": {
        "id": "bFKwF_l0zvIx"
      },
      "outputs": [],
      "source": [
        "import psycopg2\n",
        "from psycopg2 import sql\n",
        "from psycopg2.extensions import ISOLATION_LEVEL_AUTOCOMMIT\n",
        "\n",
        "# Replace these values with your own database connection details\n",
        "jdbc_url = \"jdbc:postgresql://YOUR_LINK_NGROK:YOUR_PORT_NGROK/sportstickets\"\n",
        "# Example \"jdbc:postgresql://0.tcp.ngrok.io:14732/sportstickets\"\n",
        "\n",
        "# Extracting values from the JDBC URL\n",
        "url_parts = jdbc_url.split(\"/\")\n",
        "dbname = url_parts[-1]\n",
        "host_and_port = url_parts[-2].split(\":\")\n",
        "host = host_and_port[0]\n",
        "port = host_and_port[1]\n",
        "\n",
        "# Add your username and password if required\n",
        "user = \"adminuser\"\n",
        "password = \"admin123\"\n",
        "\n",
        "# Connect to the PostgreSQL server\n",
        "conn = psycopg2.connect(\n",
        "    dbname=dbname,\n",
        "    user=user,\n",
        "    password=password,\n",
        "    host=host,\n",
        "    port=port\n",
        ")\n",
        "\n",
        "# Set isolation level to autocommit to create a new schema\n",
        "conn.set_isolation_level(ISOLATION_LEVEL_AUTOCOMMIT)\n",
        "\n",
        "# Replace 'dms_sample' with your desired schema name\n",
        "schema_name = 'dms_sample'\n",
        "\n",
        "# Create a cursor object to execute SQL commands\n",
        "cursor = conn.cursor()\n",
        "\n",
        "# Create the schema\n",
        "create_schema_query = sql.SQL(\"CREATE SCHEMA IF NOT EXISTS {};\").format(sql.Identifier(schema_name))\n",
        "cursor.execute(create_schema_query)\n",
        "\n",
        "# Read the SQL script file\n",
        "with open('query_create_tables.sql', 'r') as file:\n",
        "    sql_script = file.read()\n",
        "\n",
        "# Execute the SQL script\n",
        "cursor.execute(sql_script)\n",
        "\n",
        "# Read the SQL script file\n",
        "with open('load_data.sql', 'r') as file:\n",
        "    load_script = file.read()\n",
        "\n",
        "# Execute the SQL script\n",
        "cursor.execute(load_script)\n",
        "\n",
        "# Commit the changes\n",
        "conn.commit()\n",
        "\n",
        "# Close the cursor and connection\n",
        "cursor.close()\n",
        "conn.close()"
      ]
    }
  ],
  "metadata": {
    "colab": {
      "provenance": []
    },
    "kernelspec": {
      "display_name": "Python 3",
      "name": "python3"
    },
    "language_info": {
      "name": "python"
    }
  },
  "nbformat": 4,
  "nbformat_minor": 0
}
